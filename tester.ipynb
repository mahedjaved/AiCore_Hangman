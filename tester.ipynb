{
 "cells": [
  {
   "cell_type": "code",
   "execution_count": null,
   "metadata": {},
   "outputs": [],
   "source": [
    "# %% Task -03\n",
    "guess = 'shad'\n",
    "assert type(guess) == str and any(guess.lower() in string for string in ['abcdefghijklmnopqrstuvwxyz'])\n",
    "print(f\"You have picked: {guess}\")"
   ]
  },
  {
   "cell_type": "code",
   "execution_count": 7,
   "metadata": {},
   "outputs": [
    {
     "name": "stdout",
     "output_type": "stream",
     "text": [
      "Ok\n"
     ]
    }
   ],
   "source": [
    "if len(guess) == 1 and any(guess.lower() in string for string in ['abcdefghijklmnopqrstuvwxyz']):\n",
    "    print(\"Good guess!\")\n",
    "else:\n",
    "    print(\"Oops! That is not a valid input.\")"
   ]
  },
  {
   "cell_type": "markdown",
   "metadata": {},
   "source": [
    "************************************************************************************************************"
   ]
  },
  {
   "cell_type": "code",
   "execution_count": 1,
   "metadata": {},
   "outputs": [],
   "source": [
    "# %% Task 1 : Setup the Hangman class and the init functions\n",
    "import random\n",
    "\n",
    "\n",
    "class Hangman:\n",
    "    def __init__(\n",
    "            self,\n",
    "            word_list,\n",
    "            num_lives=5,\n",
    "    ):\n",
    "        self.word_list = word_list\n",
    "        self.num_lives = num_lives\n",
    "        # random pick from word list\n",
    "        self.word = random.choice(self.word_list)\n",
    "        # set the word_guessed list as a list of '_' with same size as word string\n",
    "        self.word_guessed = ['_' for i in range(len(self.word))]\n",
    "        # store all the unique characters in the secret word into a list of unique characters\n",
    "        unique_chars = list(set([word_ for word_ in self.word]))\n",
    "        # pick from unique characters that are not in guessed list\n",
    "        self.num_letters = len(\n",
    "            [unique_char for unique_char in unique_chars if unique_char not in self.word_guessed])\n",
    "        # A list of the guesses that have already been tried. Set this to an empty list initially\n",
    "        self.list_of_guesses = []\n",
    "\n",
    "    def check_guess(self, guess):\n",
    "        guess = guess.lower()\n",
    "        if guess in self.word:\n",
    "            print(f\"Good guess! {guess} is in the word.\")\n",
    "            for word_idx, word in enumerate(self.word):\n",
    "                if word == guess:\n",
    "                    self.word_guessed[word_idx] = word\n",
    "            self.num_letters = self.num_letters - 1\n",
    "        else:\n",
    "            print(f\"Sorry, {guess} is not in the word. Try again.\")\n",
    "            self.num_letters = self.num_letters - 1\n",
    "            print(f\"You have {self.num_lives} lives left.\")\n",
    "\n",
    "    def ask_for_input(self):\n",
    "        while True:\n",
    "            guess = input(\"Enter your guess: \")\n",
    "            if (not guess.isalpha()) and (not len(guess) == 1):\n",
    "                print(\n",
    "                    \"Invalid letter. Please, enter a single alphabetical character.\")\n",
    "            elif (guess in self.list_of_guesses):\n",
    "                print(\"You already tried that letter!\")\n",
    "            else:\n",
    "                self.check_guess(guess)\n",
    "            if '_' not in self.word_guessed:\n",
    "                break"
   ]
  },
  {
   "cell_type": "code",
   "execution_count": 2,
   "metadata": {},
   "outputs": [],
   "source": [
    "hangman = Hangman(['apple', 'banana'], 10)"
   ]
  },
  {
   "cell_type": "code",
   "execution_count": 3,
   "metadata": {},
   "outputs": [
    {
     "name": "stdout",
     "output_type": "stream",
     "text": [
      "Invalid letter. Please, enter a single alphabetical character.\n",
      "Sorry, 1 is not in the word. Try again.\n",
      "You have 10 lives left.\n",
      "Sorry, q is not in the word. Try again.\n",
      "You have 10 lives left.\n",
      "Sorry, q is not in the word. Try again.\n",
      "You have 10 lives left.\n",
      "Sorry, e is not in the word. Try again.\n",
      "You have 10 lives left.\n"
     ]
    }
   ],
   "source": [
    "hangman.ask_for_input()"
   ]
  },
  {
   "cell_type": "code",
   "execution_count": null,
   "metadata": {},
   "outputs": [],
   "source": []
  },
  {
   "cell_type": "code",
   "execution_count": null,
   "metadata": {},
   "outputs": [],
   "source": []
  },
  {
   "cell_type": "code",
   "execution_count": null,
   "metadata": {},
   "outputs": [],
   "source": []
  },
  {
   "cell_type": "code",
   "execution_count": null,
   "metadata": {},
   "outputs": [],
   "source": []
  },
  {
   "cell_type": "code",
   "execution_count": null,
   "metadata": {},
   "outputs": [],
   "source": [
    "# for idx in range(len(unique_chars)):\n",
    "#     if (unique_chars[idx] in guessed_list):\n",
    "#         unique_chars.pop(idx)"
   ]
  }
 ],
 "metadata": {
  "kernelspec": {
   "display_name": "airdmp",
   "language": "python",
   "name": "python3"
  },
  "language_info": {
   "codemirror_mode": {
    "name": "ipython",
    "version": 3
   },
   "file_extension": ".py",
   "mimetype": "text/x-python",
   "name": "python",
   "nbconvert_exporter": "python",
   "pygments_lexer": "ipython3",
   "version": "3.7.12"
  },
  "orig_nbformat": 4
 },
 "nbformat": 4,
 "nbformat_minor": 2
}
