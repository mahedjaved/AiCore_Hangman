{
 "cells": [
  {
   "cell_type": "code",
   "execution_count": 1,
   "metadata": {},
   "outputs": [
    {
     "ename": "AssertionError",
     "evalue": "",
     "output_type": "error",
     "traceback": [
      "\u001b[1;31m---------------------------------------------------------------------------\u001b[0m",
      "\u001b[1;31mAssertionError\u001b[0m                            Traceback (most recent call last)",
      "\u001b[1;32m~\\AppData\\Local\\Temp\\ipykernel_2280\\964438453.py\u001b[0m in \u001b[0;36m<module>\u001b[1;34m\u001b[0m\n\u001b[0;32m      1\u001b[0m \u001b[1;31m# %% Task -03\u001b[0m\u001b[1;33m\u001b[0m\u001b[1;33m\u001b[0m\u001b[1;33m\u001b[0m\u001b[0m\n\u001b[0;32m      2\u001b[0m \u001b[0mguess\u001b[0m \u001b[1;33m=\u001b[0m \u001b[1;34m'shad'\u001b[0m\u001b[1;33m\u001b[0m\u001b[1;33m\u001b[0m\u001b[0m\n\u001b[1;32m----> 3\u001b[1;33m \u001b[1;32massert\u001b[0m \u001b[0mtype\u001b[0m\u001b[1;33m(\u001b[0m\u001b[0mguess\u001b[0m\u001b[1;33m)\u001b[0m \u001b[1;33m==\u001b[0m \u001b[0mstr\u001b[0m \u001b[1;32mand\u001b[0m \u001b[0many\u001b[0m\u001b[1;33m(\u001b[0m\u001b[0mguess\u001b[0m\u001b[1;33m.\u001b[0m\u001b[0mlower\u001b[0m\u001b[1;33m(\u001b[0m\u001b[1;33m)\u001b[0m \u001b[1;32min\u001b[0m \u001b[0mstring\u001b[0m \u001b[1;32mfor\u001b[0m \u001b[0mstring\u001b[0m \u001b[1;32min\u001b[0m \u001b[1;33m[\u001b[0m\u001b[1;34m'abcdefghijklmnopqrstuvwxyz'\u001b[0m\u001b[1;33m]\u001b[0m\u001b[1;33m)\u001b[0m\u001b[1;33m\u001b[0m\u001b[1;33m\u001b[0m\u001b[0m\n\u001b[0m\u001b[0;32m      4\u001b[0m \u001b[0mprint\u001b[0m\u001b[1;33m(\u001b[0m\u001b[1;34mf\"You have picked: {guess}\"\u001b[0m\u001b[1;33m)\u001b[0m\u001b[1;33m\u001b[0m\u001b[1;33m\u001b[0m\u001b[0m\n",
      "\u001b[1;31mAssertionError\u001b[0m: "
     ]
    }
   ],
   "source": [
    "# %% Task -03\n",
    "guess = 'shad'\n",
    "assert type(guess) == str and any(guess.lower() in string for string in ['abcdefghijklmnopqrstuvwxyz'])\n",
    "print(f\"You have picked: {guess}\")"
   ]
  },
  {
   "cell_type": "code",
   "execution_count": 7,
   "metadata": {},
   "outputs": [
    {
     "name": "stdout",
     "output_type": "stream",
     "text": [
      "Ok\n"
     ]
    }
   ],
   "source": [
    "if len(guess) == 1 and any(guess.lower() in string for string in ['abcdefghijklmnopqrstuvwxyz']):\n",
    "    print(\"Good guess!\")\n",
    "else:\n",
    "    print(\"Oops! That is not a valid input.\")"
   ]
  },
  {
   "cell_type": "code",
   "execution_count": null,
   "metadata": {},
   "outputs": [],
   "source": [
    "# %% Task 1 : Setup the Hangman class and the init functions\n",
    "import random\n",
    "\n",
    "\n",
    "class Hangman:\n",
    "    def __init__(\n",
    "            self,\n",
    "            word,\n",
    "            word_guessed,\n",
    "            num_letters,\n",
    "            word_list,\n",
    "            list_of_guesses,\n",
    "            num_lives=5,\n",
    "    ):\n",
    "        self.word = word\n",
    "        self.word_guessed = word_guessed\n",
    "        self.num_letters = num_letters\n",
    "        self.word_list = word_list\n",
    "        self.list_of_guesses = list_of_guesses\n",
    "        self.num_lives = num_lives\n",
    "\n",
    "        # set the word_guessed list as a list of '_' with same size as word string\n",
    "        self.word_guessed = ['_' for i in range(len(self.word))]\n",
    "\n",
    "        # store all the unique characters in the secret word into a list of unique characters\n",
    "        unique_chars = list(set([word_ for word_ in word]))\n",
    "        # pick from unique characters that are not in guessed list\n",
    "        self.num_letters = len([unique_char for unique_char in unique_chars if unique_char not in self.word_guessed])\n",
    "        \n",
    "        # A list of the guesses that have already been tried. Set this to an empty list initially\n",
    "        self.list_of_guesses = []\n"
   ]
  },
  {
   "cell_type": "code",
   "execution_count": null,
   "metadata": {},
   "outputs": [],
   "source": []
  },
  {
   "cell_type": "code",
   "execution_count": null,
   "metadata": {},
   "outputs": [],
   "source": []
  },
  {
   "cell_type": "code",
   "execution_count": null,
   "metadata": {},
   "outputs": [],
   "source": []
  },
  {
   "cell_type": "code",
   "execution_count": null,
   "metadata": {},
   "outputs": [],
   "source": []
  },
  {
   "cell_type": "code",
   "execution_count": null,
   "metadata": {},
   "outputs": [],
   "source": [
    "# for idx in range(len(unique_chars)):\n",
    "#     if (unique_chars[idx] in guessed_list):\n",
    "#         unique_chars.pop(idx)"
   ]
  }
 ],
 "metadata": {
  "kernelspec": {
   "display_name": "airdmp",
   "language": "python",
   "name": "python3"
  },
  "language_info": {
   "codemirror_mode": {
    "name": "ipython",
    "version": 3
   },
   "file_extension": ".py",
   "mimetype": "text/x-python",
   "name": "python",
   "nbconvert_exporter": "python",
   "pygments_lexer": "ipython3",
   "version": "3.7.12"
  },
  "orig_nbformat": 4
 },
 "nbformat": 4,
 "nbformat_minor": 2
}
